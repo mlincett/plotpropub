{
 "cells": [
  {
   "cell_type": "markdown",
   "metadata": {},
   "source": [
    "Some plots from V. Hess survey on radioactivity that brought to the discovery of cosmic rays in 1912. Cfr. [arxiv:1808.02927](https://arxiv.org/abs/1808.02927)"
   ]
  },
  {
   "cell_type": "code",
   "execution_count": 6,
   "metadata": {},
   "outputs": [],
   "source": [
    "import numpy as np\n",
    "import matplotlib.pyplot as plt"
   ]
  },
  {
   "cell_type": "code",
   "execution_count": 2,
   "metadata": {},
   "outputs": [],
   "source": [
    "data = np.genfromtxt(\"../data/hess_19120805.csv\", delimiter=',', skip_header=True)"
   ]
  },
  {
   "cell_type": "code",
   "execution_count": 3,
   "metadata": {},
   "outputs": [
    {
     "data": {
      "text/plain": [
       "array([[   0. ,    0. ,   16.3,   19.6,   11.8,   19.7],\n",
       "       [   0. ,  200. ,   15.4,   11.1,   19.1,   18.5],\n",
       "       [ 200. ,  500. ,   15.5,   10.4,   18.8,   17.7],\n",
       "       [ 500. , 1000. ,   15.6,   10.3,   20.8,   18.5],\n",
       "       [1000. , 2000. ,   15.9,   12.1,   22.2,   18.7],\n",
       "       [2000. , 3000. ,   17.3,   13.3,   31.2,   22.5],\n",
       "       [3000. , 4000. ,   19.8,   16.5,   35.2,   21.8],\n",
       "       [4000. , 5200. ,   34.4,   27.2,    nan,    nan]])"
      ]
     },
     "execution_count": 3,
     "metadata": {},
     "output_type": "execute_result"
    }
   ],
   "source": [
    "# h_inf, h_sup, Instrument 1, Instrument 2, Instrument 3 (a), Instrument 3 (b)\n",
    "data"
   ]
  },
  {
   "cell_type": "code",
   "execution_count": 4,
   "metadata": {},
   "outputs": [],
   "source": [
    "h  = data[:, 1]\n",
    "I1 = data[:, 2]\n",
    "I2 = data[:, 3]"
   ]
  },
  {
   "cell_type": "code",
   "execution_count": 5,
   "metadata": {},
   "outputs": [
    {
     "data": {
      "image/png": "[encoded data removed]",
      "text/plain": [
       "<Figure size 360x360 with 1 Axes>"
      ]
     },
     "metadata": {
      "needs_background": "light"
     },
     "output_type": "display_data"
    }
   ],
   "source": [
    "fig, ax = plt.subplots(figsize=(5,5))\n",
    "\n",
    "ax.scatter(h[0], I1[0], label=\"Instrument 1 (ground)\")\n",
    "ax.scatter(h[0], I2[0], label=\"Instrument 2 (ground)\")\n",
    "\n",
    "ax.step(h, I1, label=\"Instrument 1 (flight)\", linestyle='--', linewidth=3)\n",
    "ax.step(h, I2, label=\"Instrument 2 (flight)\", linestyle='--', linewidth=3)\n",
    "\n",
    "ax.legend()\n",
    "\n",
    "ax.set_xlabel(\"Height [$m$]\")\n",
    "ax.set_ylabel(\"Ion pairs [$cm^{-3} s^{-1}$]\")\n",
    "\n",
    "fig.savefig(\"hess1912.pdf\")"
   ]
  },
  {
   "cell_type": "code",
   "execution_count": null,
   "metadata": {},
   "outputs": [],
   "source": []
  }
 ],
 "metadata": {
  "kernelspec": {
   "display_name": "Python 3",
   "language": "python",
   "name": "python3"
  },
  "language_info": {
   "codemirror_mode": {
    "name": "ipython",
    "version": 3
   },
   "file_extension": ".py",
   "mimetype": "text/x-python",
   "name": "python",
   "nbconvert_exporter": "python",
   "pygments_lexer": "ipython3",
   "version": "3.6.1"
  }
 },
 "nbformat": 4,
 "nbformat_minor": 2
}
